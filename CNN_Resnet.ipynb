{
  "nbformat": 4,
  "nbformat_minor": 0,
  "metadata": {
    "colab": {
      "name": "CNN_Resnet.ipynb",
      "version": "0.3.2",
      "provenance": [],
      "include_colab_link": true
    },
    "kernelspec": {
      "name": "python3",
      "display_name": "Python 3"
    },
    "accelerator": "GPU"
  },
  "cells": [
    {
      "cell_type": "markdown",
      "metadata": {
        "id": "view-in-github",
        "colab_type": "text"
      },
      "source": [
        "<a href=\"https://colab.research.google.com/github/MahmoudFarouq/faceVerification/blob/master/CNN_Resnet.ipynb\" target=\"_parent\"><img src=\"https://colab.research.google.com/assets/colab-badge.svg\" alt=\"Open In Colab\"/></a>"
      ]
    },
    {
      "metadata": {
        "id": "dO-pdwg6Nl3r",
        "colab_type": "code",
        "colab": {}
      },
      "cell_type": "code",
      "source": [
        "import os\n",
        "import pickle\n",
        "\n",
        "import numpy as np\n",
        "import matplotlib.pyplot as plt\n",
        "from sklearn.model_selection import train_test_split\n",
        "from sklearn.preprocessing import OneHotEncoder\n",
        "\n",
        "from keras.layers import Input, Add, Dense, Activation, ZeroPadding2D, BatchNormalization, Flatten, Conv2D, AveragePooling2D, MaxPooling2D, Dropout\n",
        "from keras.optimizers import Adam\n",
        "from keras.models import Model\n",
        "from keras.initializers import glorot_uniform\n",
        "%matplotlib inline\n",
        "\n",
        "import keras.backend as K\n",
        "K.set_image_data_format('channels_last')\n",
        "K.set_learning_phase(1)"
      ],
      "execution_count": 0,
      "outputs": []
    },
    {
      "metadata": {
        "id": "UYj_AbTggOHk",
        "colab_type": "code",
        "colab": {}
      },
      "cell_type": "code",
      "source": [
        "drop = 0.3"
      ],
      "execution_count": 0,
      "outputs": []
    },
    {
      "metadata": {
        "id": "cg2A7loWN1Px",
        "colab_type": "code",
        "colab": {}
      },
      "cell_type": "code",
      "source": [
        "def resNetBlock_Identity(X, f, filters, stage, block):\n",
        "  \n",
        "  conv_name_base = 'res' + str(stage) + block + '_branch'\n",
        "  bn_name_base = 'bn' + str(stage) + block + '_branch'\n",
        "  \n",
        "  F1, F2, F3 = filters\n",
        "  short_cut = X\n",
        "  \n",
        "  X = Conv2D(filters=F1, kernel_size=(1, 1), strides=(1, 1), padding='valid', name = conv_name_base + '2a', kernel_initializer = glorot_uniform(seed=0))(X)\n",
        "  X = BatchNormalization(axis = 3, name = bn_name_base + '2a')(X)\n",
        "  X = Activation('relu')(X)\n",
        "  X = Dropout(drop)(X)\n",
        "  \n",
        "  X = Conv2D(filters=F2, kernel_size=(f, f), strides=(1, 1), padding='same' , name = conv_name_base + '2b', kernel_initializer = glorot_uniform(seed=0))(X)\n",
        "  X = BatchNormalization(axis = 3, name = bn_name_base + '2b')(X)\n",
        "  X = Activation('relu')(X)\n",
        "  X = Dropout(drop)(X)\n",
        "  \n",
        "  X = Conv2D(filters=F3, kernel_size=(1, 1), strides=(1, 1), padding='valid', name = conv_name_base + '2c', kernel_initializer = glorot_uniform(seed=0))(X)\n",
        "  X = BatchNormalization(axis = 3, name = bn_name_base + '2c')(X)\n",
        "  X = Add()([X, short_cut])\n",
        "  X = Activation('relu')(X)\n",
        "  X = Dropout(drop)(X)\n",
        "  \n",
        "  return X"
      ],
      "execution_count": 0,
      "outputs": []
    },
    {
      "metadata": {
        "id": "hPmI6mC0OBnI",
        "colab_type": "code",
        "colab": {}
      },
      "cell_type": "code",
      "source": [
        "def resNetBlock_convolutional(X, f, filters, stage, block, s=2):\n",
        "  \n",
        "  conv_name_base = 'res' + str(stage) + block + '_branch'\n",
        "  bn_name_base = 'bn' + str(stage) + block + '_branch'\n",
        "  \n",
        "  F1, F2, F3 = filters\n",
        "  short_cut = X\n",
        "  \n",
        "  X = Conv2D(filters=F1, kernel_size=(1, 1), strides=(s, s), padding='valid', name = conv_name_base + '2a', kernel_initializer = glorot_uniform(seed=0))(X)\n",
        "  X = BatchNormalization(axis = 3, name = bn_name_base + '2a')(X)\n",
        "  X = Activation('relu')(X)\n",
        "  X = Dropout(drop)(X)\n",
        "  \n",
        "  X = Conv2D(filters=F2, kernel_size=(f, f), strides=(1, 1), padding='same' , name = conv_name_base + '2b', kernel_initializer = glorot_uniform(seed=0))(X)\n",
        "  X = BatchNormalization(axis = 3, name = bn_name_base + '2b')(X)\n",
        "  X = Activation('relu')(X)\n",
        "  X = Dropout(drop)(X)\n",
        "  \n",
        "  X = Conv2D(filters=F3, kernel_size=(1, 1), strides=(1, 1), padding='same', name = conv_name_base + '2c', kernel_initializer = glorot_uniform(seed=0))(X)\n",
        "  X = BatchNormalization(axis = 3, name = bn_name_base + '2c')(X)\n",
        "  \n",
        "  short_cut = Conv2D(filters=F3, kernel_size=(1, 1), strides=(s, s), padding='valid' , name = conv_name_base + '1', kernel_initializer = glorot_uniform(seed=0))(short_cut)\n",
        "  short_cut = BatchNormalization(axis = 3, name = bn_name_base + '1')(short_cut)\n",
        "  \n",
        "  X = Add()([X, short_cut])\n",
        "  X = Activation('relu')(X)\n",
        "  X = Dropout(drop)(X)\n",
        "  return X"
      ],
      "execution_count": 0,
      "outputs": []
    },
    {
      "metadata": {
        "id": "CHZ5vhoYOK-Y",
        "colab_type": "code",
        "colab": {}
      },
      "cell_type": "code",
      "source": [
        "def ResNet50(input_shape=(48, 48, 3), classes=4):\n",
        "\n",
        "    X_input = Input(input_shape)\n",
        "\n",
        "    X = ZeroPadding2D((3, 3))(X_input)\n",
        "\n",
        "    X = Conv2D(64, (7, 7), strides=(2, 2), name='conv1', kernel_initializer=glorot_uniform(seed=0))(X)\n",
        "    X = BatchNormalization(axis=3, name='bn_conv1')(X)\n",
        "    X = Activation('relu')(X)\n",
        "    X = MaxPooling2D((3, 3), strides=(2, 2))(X)\n",
        "\n",
        "    X = resNetBlock_convolutional(X, f=3, filters=[64, 64, 256], stage=2, block='a', s=1)\n",
        "    X = resNetBlock_Identity(X, 3, [64, 64, 256], stage=2, block='b')\n",
        "    X = resNetBlock_Identity(X, 3, [64, 64, 256], stage=2, block='c')\n",
        "\n",
        "    X = resNetBlock_convolutional(X, f=3, filters=[128, 128, 512], stage=3, block='a', s=2)\n",
        "    X = resNetBlock_Identity(X, 3, [128, 128, 512], stage=3, block='b')\n",
        "    X = resNetBlock_Identity(X, 3, [128, 128, 512], stage=3, block='c')\n",
        "    X = resNetBlock_Identity(X, 3, [128, 128, 512], stage=3, block='d')\n",
        "\n",
        "    X = resNetBlock_convolutional(X, f=3, filters=[256, 256, 1024], stage=4, block='a', s=2)\n",
        "    X = resNetBlock_Identity(X, 3, [256, 256, 1024], stage=4, block='b')\n",
        "    X = resNetBlock_Identity(X, 3, [256, 256, 1024], stage=4, block='c')\n",
        "    X = resNetBlock_Identity(X, 3, [256, 256, 1024], stage=4, block='d')\n",
        "    X = resNetBlock_Identity(X, 3, [256, 256, 1024], stage=4, block='e')\n",
        "    X = resNetBlock_Identity(X, 3, [256, 256, 1024], stage=4, block='f')\n",
        "\n",
        "    X = resNetBlock_convolutional(X, f=3, filters=[512, 512, 2048], stage=5, block='a', s=2)\n",
        "    X = resNetBlock_Identity(X, 3, [512, 512, 2048], stage=5, block='b')\n",
        "    X = resNetBlock_Identity(X, 3, [512, 512, 2048], stage=5, block='c')\n",
        "\n",
        "    X = AveragePooling2D(pool_size=(2, 2), padding='same')(X)\n",
        "\n",
        "    X = Flatten()(X)\n",
        "    X = Dense(classes, activation='softmax', name='fc' + str(classes), kernel_initializer=glorot_uniform(seed=0))(X)\n",
        "\n",
        "    model = Model(inputs=X_input, outputs=X, name='ResNet50')\n",
        "    \n",
        "    return model"
      ],
      "execution_count": 0,
      "outputs": []
    },
    {
      "metadata": {
        "id": "v1M3d1e0Og0p",
        "colab_type": "code",
        "colab": {}
      },
      "cell_type": "code",
      "source": [
        "#!wget https://github.com/MahmoudFarouq/faceVerification/raw/master/dataSet/dataObject.pkl"
      ],
      "execution_count": 0,
      "outputs": []
    },
    {
      "metadata": {
        "id": "QleD5099Owm3",
        "colab_type": "code",
        "colab": {
          "base_uri": "https://localhost:8080/",
          "height": 34
        },
        "outputId": "9cc8d45f-5174-4fdd-ad4b-13802e4bb16c"
      },
      "cell_type": "code",
      "source": [
        "!ls"
      ],
      "execution_count": 54,
      "outputs": [
        {
          "output_type": "stream",
          "text": [
            "dataObject.pkl\tdataObject.pkl.1  sample_data\n"
          ],
          "name": "stdout"
        }
      ]
    },
    {
      "metadata": {
        "id": "ALIDY84zOyws",
        "colab_type": "code",
        "colab": {}
      },
      "cell_type": "code",
      "source": [
        "with open(\"dataObject.pkl\", 'rb') as dataFile:\n",
        "  X = pickle.load(dataFile)"
      ],
      "execution_count": 0,
      "outputs": []
    },
    {
      "metadata": {
        "id": "IepGPJiQO6y_",
        "colab_type": "code",
        "colab": {}
      },
      "cell_type": "code",
      "source": [
        "y = [\n",
        "    np.full((250, 1), 0), \n",
        "    np.full((250, 1), 1), \n",
        "    np.full((250, 1), 2), \n",
        "    np.full((250, 1), 3)\n",
        "]\n",
        "y = np.vstack(y)\n",
        "\n",
        "# onehot encoding\n",
        "y_encoder = OneHotEncoder(sparse=False, categories='auto')\n",
        "y = y_encoder.fit_transform(y)"
      ],
      "execution_count": 0,
      "outputs": []
    },
    {
      "metadata": {
        "id": "DUjkjVTtQC4Y",
        "colab_type": "code",
        "colab": {
          "base_uri": "https://localhost:8080/",
          "height": 284
        },
        "outputId": "a6a4a911-9ef4-4cea-9302-9b0fbe035f7a"
      },
      "cell_type": "code",
      "source": [
        "plt.imshow( X[750].reshape(48, 48, 3) )"
      ],
      "execution_count": 57,
      "outputs": [
        {
          "output_type": "execute_result",
          "data": {
            "text/plain": [
              "<matplotlib.image.AxesImage at 0x7f7d02eb25f8>"
            ]
          },
          "metadata": {
            "tags": []
          },
          "execution_count": 57
        },
        {
          "output_type": "display_data",
          "data": {
            "image/png": "[encoded data removed]",
            "text/plain": [
              "<matplotlib.figure.Figure at 0x7f7d03065d30>"
            ]
          },
          "metadata": {
            "tags": []
          }
        }
      ]
    },
    {
      "metadata": {
        "id": "TXVoBiCsQOxg",
        "colab_type": "code",
        "colab": {
          "base_uri": "https://localhost:8080/",
          "height": 34
        },
        "outputId": "14f04b3a-f6b7-45bf-ca02-2479e9a1a1c6"
      },
      "cell_type": "code",
      "source": [
        "X.shape, y.shape"
      ],
      "execution_count": 58,
      "outputs": [
        {
          "output_type": "execute_result",
          "data": {
            "text/plain": [
              "((1000, 48, 48, 3), (1000, 4))"
            ]
          },
          "metadata": {
            "tags": []
          },
          "execution_count": 58
        }
      ]
    },
    {
      "metadata": {
        "id": "PI3jCygjQUim",
        "colab_type": "code",
        "colab": {}
      },
      "cell_type": "code",
      "source": [
        "X_train, X_test, y_train, y_test = train_test_split(X, y, test_size=0.2, random_state=42)"
      ],
      "execution_count": 0,
      "outputs": []
    },
    {
      "metadata": {
        "id": "uM3yYedLOWNE",
        "colab_type": "code",
        "colab": {}
      },
      "cell_type": "code",
      "source": [
        "model = ResNet50()"
      ],
      "execution_count": 0,
      "outputs": []
    },
    {
      "metadata": {
        "id": "MuJjakm6Oagq",
        "colab_type": "code",
        "colab": {}
      },
      "cell_type": "code",
      "source": [
        "opt = Adam(lr=0.0001)\n",
        "model.compile(\n",
        "    loss='categorical_crossentropy',\n",
        "    optimizer=opt,\n",
        "    metrics=['accuracy']\n",
        ")"
      ],
      "execution_count": 0,
      "outputs": []
    },
    {
      "metadata": {
        "id": "BJ690EYgROTj",
        "colab_type": "code",
        "colab": {
          "base_uri": "https://localhost:8080/",
          "height": 8735
        },
        "outputId": "bbb0959e-dfd3-4053-af37-02f2a4d4591e"
      },
      "cell_type": "code",
      "source": [
        "model.fit(\n",
        "    X_train, \n",
        "    y_train,\n",
        "    validation_data=(X_test,y_test),\n",
        "    validation_split=0.8,\n",
        "    epochs=250,\n",
        "    shuffle=True,\n",
        "    batch_size=128,\n",
        "    verbose=1\n",
        ")"
      ],
      "execution_count": 116,
      "outputs": [
        {
          "output_type": "stream",
          "text": [
            "Train on 800 samples, validate on 200 samples\n",
            "Epoch 1/250\n",
            "800/800 [==============================] - 3s 4ms/step - loss: 0.0705 - acc: 0.9725 - val_loss: 0.9273 - val_acc: 0.7900\n",
            "Epoch 2/250\n",
            "800/800 [==============================] - 3s 3ms/step - loss: 0.0765 - acc: 0.9775 - val_loss: 0.7958 - val_acc: 0.8050\n",
            "Epoch 3/250\n",
            "800/800 [==============================] - 3s 3ms/step - loss: 0.0932 - acc: 0.9625 - val_loss: 0.7994 - val_acc: 0.8250\n",
            "Epoch 4/250\n",
            "800/800 [==============================] - 3s 3ms/step - loss: 0.0598 - acc: 0.9800 - val_loss: 0.9626 - val_acc: 0.8100\n",
            "Epoch 5/250\n",
            "800/800 [==============================] - 3s 3ms/step - loss: 0.0588 - acc: 0.9788 - val_loss: 0.7785 - val_acc: 0.8000\n",
            "Epoch 6/250\n",
            "800/800 [==============================] - 3s 3ms/step - loss: 0.0765 - acc: 0.9763 - val_loss: 0.7929 - val_acc: 0.8050\n",
            "Epoch 7/250\n",
            "800/800 [==============================] - 3s 3ms/step - loss: 0.0956 - acc: 0.9738 - val_loss: 1.0500 - val_acc: 0.7900\n",
            "Epoch 8/250\n",
            "800/800 [==============================] - 3s 3ms/step - loss: 0.0947 - acc: 0.9725 - val_loss: 0.7629 - val_acc: 0.8350\n",
            "Epoch 9/250\n",
            "800/800 [==============================] - 3s 3ms/step - loss: 0.0676 - acc: 0.9763 - val_loss: 0.8027 - val_acc: 0.8150\n",
            "Epoch 10/250\n",
            "800/800 [==============================] - 3s 3ms/step - loss: 0.0662 - acc: 0.9725 - val_loss: 0.6658 - val_acc: 0.8000\n",
            "Epoch 11/250\n",
            "800/800 [==============================] - 3s 3ms/step - loss: 0.0658 - acc: 0.9763 - val_loss: 0.7547 - val_acc: 0.7900\n",
            "Epoch 12/250\n",
            "800/800 [==============================] - 3s 3ms/step - loss: 0.1080 - acc: 0.9575 - val_loss: 0.6792 - val_acc: 0.8350\n",
            "Epoch 13/250\n",
            "800/800 [==============================] - 3s 3ms/step - loss: 0.0820 - acc: 0.9675 - val_loss: 0.7376 - val_acc: 0.8250\n",
            "Epoch 14/250\n",
            "800/800 [==============================] - 3s 3ms/step - loss: 0.0865 - acc: 0.9700 - val_loss: 0.7295 - val_acc: 0.8050\n",
            "Epoch 15/250\n",
            "800/800 [==============================] - 3s 3ms/step - loss: 0.0803 - acc: 0.9750 - val_loss: 0.8011 - val_acc: 0.8000\n",
            "Epoch 16/250\n",
            "800/800 [==============================] - 3s 3ms/step - loss: 0.0790 - acc: 0.9675 - val_loss: 1.0522 - val_acc: 0.7850\n",
            "Epoch 17/250\n",
            "800/800 [==============================] - 3s 3ms/step - loss: 0.0698 - acc: 0.9713 - val_loss: 0.7997 - val_acc: 0.7800\n",
            "Epoch 18/250\n",
            "800/800 [==============================] - 3s 3ms/step - loss: 0.0548 - acc: 0.9800 - val_loss: 0.6969 - val_acc: 0.8300\n",
            "Epoch 19/250\n",
            "800/800 [==============================] - 3s 3ms/step - loss: 0.0809 - acc: 0.9738 - val_loss: 0.7634 - val_acc: 0.8050\n",
            "Epoch 20/250\n",
            "800/800 [==============================] - 3s 3ms/step - loss: 0.0694 - acc: 0.9688 - val_loss: 0.8926 - val_acc: 0.7850\n",
            "Epoch 21/250\n",
            "800/800 [==============================] - 3s 3ms/step - loss: 0.0386 - acc: 0.9888 - val_loss: 0.8386 - val_acc: 0.7900\n",
            "Epoch 22/250\n",
            "800/800 [==============================] - 3s 3ms/step - loss: 0.0713 - acc: 0.9725 - val_loss: 0.7438 - val_acc: 0.8000\n",
            "Epoch 23/250\n",
            "800/800 [==============================] - 3s 3ms/step - loss: 0.0554 - acc: 0.9800 - val_loss: 0.9344 - val_acc: 0.8050\n",
            "Epoch 24/250\n",
            "800/800 [==============================] - 3s 3ms/step - loss: 0.0629 - acc: 0.9825 - val_loss: 0.8740 - val_acc: 0.7950\n",
            "Epoch 25/250\n",
            "800/800 [==============================] - 3s 3ms/step - loss: 0.1514 - acc: 0.9500 - val_loss: 0.9696 - val_acc: 0.8100\n",
            "Epoch 26/250\n",
            "800/800 [==============================] - 3s 3ms/step - loss: 0.0977 - acc: 0.9700 - val_loss: 0.7964 - val_acc: 0.8300\n",
            "Epoch 27/250\n",
            "800/800 [==============================] - 3s 3ms/step - loss: 0.1151 - acc: 0.9575 - val_loss: 0.8637 - val_acc: 0.7750\n",
            "Epoch 28/250\n",
            "800/800 [==============================] - 3s 3ms/step - loss: 0.0751 - acc: 0.9738 - val_loss: 0.8017 - val_acc: 0.7950\n",
            "Epoch 29/250\n",
            "800/800 [==============================] - 3s 3ms/step - loss: 0.1022 - acc: 0.9600 - val_loss: 0.7267 - val_acc: 0.8000\n",
            "Epoch 30/250\n",
            "800/800 [==============================] - 3s 3ms/step - loss: 0.0937 - acc: 0.9650 - val_loss: 0.8394 - val_acc: 0.7800\n",
            "Epoch 31/250\n",
            "800/800 [==============================] - 3s 3ms/step - loss: 0.0615 - acc: 0.9800 - val_loss: 0.8384 - val_acc: 0.8150\n",
            "Epoch 32/250\n",
            "800/800 [==============================] - 3s 3ms/step - loss: 0.0685 - acc: 0.9700 - val_loss: 0.7895 - val_acc: 0.8200\n",
            "Epoch 33/250\n",
            "800/800 [==============================] - 3s 3ms/step - loss: 0.0769 - acc: 0.9700 - val_loss: 0.8276 - val_acc: 0.7950\n",
            "Epoch 34/250\n",
            "800/800 [==============================] - 3s 3ms/step - loss: 0.0699 - acc: 0.9738 - val_loss: 0.7708 - val_acc: 0.7950\n",
            "Epoch 35/250\n",
            "800/800 [==============================] - 3s 3ms/step - loss: 0.0824 - acc: 0.9738 - val_loss: 0.8896 - val_acc: 0.8150\n",
            "Epoch 36/250\n",
            "800/800 [==============================] - 3s 3ms/step - loss: 0.0822 - acc: 0.9713 - val_loss: 0.9929 - val_acc: 0.7800\n",
            "Epoch 37/250\n",
            "800/800 [==============================] - 3s 3ms/step - loss: 0.0962 - acc: 0.9675 - val_loss: 0.6906 - val_acc: 0.8450\n",
            "Epoch 38/250\n",
            "800/800 [==============================] - 3s 3ms/step - loss: 0.0447 - acc: 0.9850 - val_loss: 0.8026 - val_acc: 0.7800\n",
            "Epoch 39/250\n",
            "800/800 [==============================] - 3s 3ms/step - loss: 0.0501 - acc: 0.9838 - val_loss: 0.8577 - val_acc: 0.8050\n",
            "Epoch 40/250\n",
            "800/800 [==============================] - 3s 3ms/step - loss: 0.0743 - acc: 0.9725 - val_loss: 0.8648 - val_acc: 0.8100\n",
            "Epoch 41/250\n",
            "800/800 [==============================] - 3s 3ms/step - loss: 0.0775 - acc: 0.9738 - val_loss: 0.9331 - val_acc: 0.7950\n",
            "Epoch 42/250\n",
            "800/800 [==============================] - 3s 3ms/step - loss: 0.1122 - acc: 0.9637 - val_loss: 0.9212 - val_acc: 0.7700\n",
            "Epoch 43/250\n",
            "800/800 [==============================] - 3s 3ms/step - loss: 0.0935 - acc: 0.9688 - val_loss: 0.8170 - val_acc: 0.7900\n",
            "Epoch 44/250\n",
            "800/800 [==============================] - 3s 3ms/step - loss: 0.0821 - acc: 0.9750 - val_loss: 0.7421 - val_acc: 0.8350\n",
            "Epoch 45/250\n",
            "800/800 [==============================] - 3s 3ms/step - loss: 0.0711 - acc: 0.9713 - val_loss: 0.8252 - val_acc: 0.8200\n",
            "Epoch 46/250\n",
            "800/800 [==============================] - 3s 3ms/step - loss: 0.0810 - acc: 0.9750 - val_loss: 0.9856 - val_acc: 0.7750\n",
            "Epoch 47/250\n",
            "800/800 [==============================] - 3s 3ms/step - loss: 0.0625 - acc: 0.9800 - val_loss: 0.9429 - val_acc: 0.7650\n",
            "Epoch 48/250\n",
            "800/800 [==============================] - 3s 3ms/step - loss: 0.0792 - acc: 0.9725 - val_loss: 1.0562 - val_acc: 0.7850\n",
            "Epoch 49/250\n",
            "800/800 [==============================] - 3s 3ms/step - loss: 0.0507 - acc: 0.9838 - val_loss: 0.7762 - val_acc: 0.8150\n",
            "Epoch 50/250\n",
            "800/800 [==============================] - 3s 3ms/step - loss: 0.0526 - acc: 0.9888 - val_loss: 0.8480 - val_acc: 0.8100\n",
            "Epoch 51/250\n",
            "800/800 [==============================] - 3s 3ms/step - loss: 0.0551 - acc: 0.9800 - val_loss: 0.7910 - val_acc: 0.8150\n",
            "Epoch 52/250\n",
            "800/800 [==============================] - 3s 3ms/step - loss: 0.0997 - acc: 0.9600 - val_loss: 0.7131 - val_acc: 0.8100\n",
            "Epoch 53/250\n",
            "800/800 [==============================] - 3s 3ms/step - loss: 0.1072 - acc: 0.9612 - val_loss: 0.8676 - val_acc: 0.7850\n",
            "Epoch 54/250\n",
            "800/800 [==============================] - 3s 3ms/step - loss: 0.1015 - acc: 0.9662 - val_loss: 0.9656 - val_acc: 0.7550\n",
            "Epoch 55/250\n",
            "800/800 [==============================] - 3s 3ms/step - loss: 0.1430 - acc: 0.9513 - val_loss: 0.8697 - val_acc: 0.7700\n",
            "Epoch 56/250\n",
            "800/800 [==============================] - 3s 3ms/step - loss: 0.1240 - acc: 0.9587 - val_loss: 0.7595 - val_acc: 0.7850\n",
            "Epoch 57/250\n",
            "800/800 [==============================] - 3s 3ms/step - loss: 0.0900 - acc: 0.9637 - val_loss: 0.5953 - val_acc: 0.8200\n",
            "Epoch 58/250\n",
            "800/800 [==============================] - 3s 3ms/step - loss: 0.0611 - acc: 0.9750 - val_loss: 0.7875 - val_acc: 0.8050\n",
            "Epoch 59/250\n",
            "800/800 [==============================] - 3s 3ms/step - loss: 0.0636 - acc: 0.9775 - val_loss: 0.7241 - val_acc: 0.8300\n",
            "Epoch 60/250\n",
            "800/800 [==============================] - 3s 3ms/step - loss: 0.0451 - acc: 0.9838 - val_loss: 0.8747 - val_acc: 0.8150\n",
            "Epoch 61/250\n",
            "800/800 [==============================] - 3s 3ms/step - loss: 0.0616 - acc: 0.9825 - val_loss: 0.8803 - val_acc: 0.7950\n",
            "Epoch 62/250\n",
            "800/800 [==============================] - 3s 3ms/step - loss: 0.0629 - acc: 0.9725 - val_loss: 0.9766 - val_acc: 0.7850\n",
            "Epoch 63/250\n",
            "800/800 [==============================] - 3s 3ms/step - loss: 0.0515 - acc: 0.9812 - val_loss: 0.8194 - val_acc: 0.8450\n",
            "Epoch 64/250\n",
            "800/800 [==============================] - 3s 3ms/step - loss: 0.0524 - acc: 0.9812 - val_loss: 0.8451 - val_acc: 0.8300\n",
            "Epoch 65/250\n",
            "800/800 [==============================] - 3s 3ms/step - loss: 0.0668 - acc: 0.9788 - val_loss: 0.9198 - val_acc: 0.7850\n",
            "Epoch 66/250\n",
            "800/800 [==============================] - 3s 3ms/step - loss: 0.0649 - acc: 0.9750 - val_loss: 0.8641 - val_acc: 0.8150\n",
            "Epoch 67/250\n",
            "800/800 [==============================] - 3s 3ms/step - loss: 0.0409 - acc: 0.9825 - val_loss: 0.8726 - val_acc: 0.8400\n",
            "Epoch 68/250\n",
            "800/800 [==============================] - 3s 3ms/step - loss: 0.0528 - acc: 0.9788 - val_loss: 0.8999 - val_acc: 0.8250\n",
            "Epoch 69/250\n",
            "800/800 [==============================] - 3s 3ms/step - loss: 0.0669 - acc: 0.9775 - val_loss: 0.7980 - val_acc: 0.7800\n",
            "Epoch 70/250\n",
            "800/800 [==============================] - 3s 3ms/step - loss: 0.0511 - acc: 0.9838 - val_loss: 0.8602 - val_acc: 0.8400\n",
            "Epoch 71/250\n",
            "800/800 [==============================] - 3s 3ms/step - loss: 0.0445 - acc: 0.9838 - val_loss: 0.7895 - val_acc: 0.7950\n",
            "Epoch 72/250\n",
            "800/800 [==============================] - 3s 3ms/step - loss: 0.0394 - acc: 0.9825 - val_loss: 0.7821 - val_acc: 0.7900\n",
            "Epoch 73/250\n",
            "800/800 [==============================] - 3s 3ms/step - loss: 0.0517 - acc: 0.9800 - val_loss: 0.8901 - val_acc: 0.8150\n",
            "Epoch 74/250\n",
            "800/800 [==============================] - 3s 3ms/step - loss: 0.0478 - acc: 0.9825 - val_loss: 0.7982 - val_acc: 0.8200\n",
            "Epoch 75/250\n",
            "800/800 [==============================] - 3s 3ms/step - loss: 0.0538 - acc: 0.9812 - val_loss: 0.7223 - val_acc: 0.8250\n",
            "Epoch 76/250\n",
            "800/800 [==============================] - 3s 3ms/step - loss: 0.0365 - acc: 0.9875 - val_loss: 0.8691 - val_acc: 0.8150\n",
            "Epoch 77/250\n",
            "800/800 [==============================] - 3s 3ms/step - loss: 0.0669 - acc: 0.9812 - val_loss: 0.7983 - val_acc: 0.8400\n",
            "Epoch 78/250\n",
            "800/800 [==============================] - 3s 3ms/step - loss: 0.0940 - acc: 0.9675 - val_loss: 0.8790 - val_acc: 0.7850\n",
            "Epoch 79/250\n",
            "800/800 [==============================] - 3s 3ms/step - loss: 0.0587 - acc: 0.9763 - val_loss: 0.9815 - val_acc: 0.8050\n",
            "Epoch 80/250\n",
            "800/800 [==============================] - 3s 3ms/step - loss: 0.0779 - acc: 0.9738 - val_loss: 0.9208 - val_acc: 0.7900\n",
            "Epoch 81/250\n",
            "800/800 [==============================] - 3s 3ms/step - loss: 0.0873 - acc: 0.9688 - val_loss: 0.8042 - val_acc: 0.8250\n",
            "Epoch 82/250\n",
            "800/800 [==============================] - 3s 3ms/step - loss: 0.0986 - acc: 0.9662 - val_loss: 0.8622 - val_acc: 0.8100\n",
            "Epoch 83/250\n",
            "800/800 [==============================] - 3s 3ms/step - loss: 0.0480 - acc: 0.9862 - val_loss: 1.0981 - val_acc: 0.7650\n",
            "Epoch 84/250\n",
            "800/800 [==============================] - 3s 3ms/step - loss: 0.0552 - acc: 0.9800 - val_loss: 0.7736 - val_acc: 0.8200\n",
            "Epoch 85/250\n",
            "800/800 [==============================] - 3s 3ms/step - loss: 0.0367 - acc: 0.9850 - val_loss: 0.8838 - val_acc: 0.8200\n",
            "Epoch 86/250\n",
            "800/800 [==============================] - 3s 3ms/step - loss: 0.0595 - acc: 0.9812 - val_loss: 0.7587 - val_acc: 0.8100\n",
            "Epoch 87/250\n",
            "800/800 [==============================] - 3s 3ms/step - loss: 0.0401 - acc: 0.9838 - val_loss: 0.9456 - val_acc: 0.7950\n",
            "Epoch 88/250\n",
            "800/800 [==============================] - 3s 3ms/step - loss: 0.0553 - acc: 0.9812 - val_loss: 0.8306 - val_acc: 0.8300\n",
            "Epoch 89/250\n",
            "800/800 [==============================] - 3s 3ms/step - loss: 0.0847 - acc: 0.9713 - val_loss: 0.7346 - val_acc: 0.8250\n",
            "Epoch 90/250\n",
            "800/800 [==============================] - 3s 3ms/step - loss: 0.0490 - acc: 0.9850 - val_loss: 0.7837 - val_acc: 0.8500\n",
            "Epoch 91/250\n",
            "800/800 [==============================] - 3s 3ms/step - loss: 0.0782 - acc: 0.9688 - val_loss: 0.7025 - val_acc: 0.8450\n",
            "Epoch 92/250\n",
            "800/800 [==============================] - 3s 3ms/step - loss: 0.0488 - acc: 0.9825 - val_loss: 0.8145 - val_acc: 0.8300\n",
            "Epoch 93/250\n",
            "800/800 [==============================] - 3s 3ms/step - loss: 0.0692 - acc: 0.9738 - val_loss: 0.9435 - val_acc: 0.7850\n",
            "Epoch 94/250\n",
            "800/800 [==============================] - 3s 3ms/step - loss: 0.1433 - acc: 0.9612 - val_loss: 1.0408 - val_acc: 0.7950\n",
            "Epoch 95/250\n",
            "800/800 [==============================] - 3s 3ms/step - loss: 0.0903 - acc: 0.9650 - val_loss: 0.9186 - val_acc: 0.7900\n",
            "Epoch 96/250\n",
            "800/800 [==============================] - 3s 3ms/step - loss: 0.1074 - acc: 0.9625 - val_loss: 0.8854 - val_acc: 0.8100\n",
            "Epoch 97/250\n",
            "800/800 [==============================] - 3s 3ms/step - loss: 0.0650 - acc: 0.9788 - val_loss: 0.7309 - val_acc: 0.8200\n",
            "Epoch 98/250\n",
            "800/800 [==============================] - 3s 3ms/step - loss: 0.0637 - acc: 0.9812 - val_loss: 0.7932 - val_acc: 0.8050\n",
            "Epoch 99/250\n",
            "800/800 [==============================] - 3s 3ms/step - loss: 0.0820 - acc: 0.9725 - val_loss: 0.7920 - val_acc: 0.8200\n",
            "Epoch 100/250\n",
            "800/800 [==============================] - 3s 3ms/step - loss: 0.0568 - acc: 0.9788 - val_loss: 1.0013 - val_acc: 0.7750\n",
            "Epoch 101/250\n",
            "800/800 [==============================] - 3s 3ms/step - loss: 0.0667 - acc: 0.9750 - val_loss: 0.8629 - val_acc: 0.8200\n",
            "Epoch 102/250\n",
            "800/800 [==============================] - 3s 3ms/step - loss: 0.0539 - acc: 0.9775 - val_loss: 0.7952 - val_acc: 0.8400\n",
            "Epoch 103/250\n",
            "800/800 [==============================] - 3s 3ms/step - loss: 0.0496 - acc: 0.9838 - val_loss: 1.0162 - val_acc: 0.8050\n",
            "Epoch 104/250\n",
            "800/800 [==============================] - 3s 3ms/step - loss: 0.0795 - acc: 0.9725 - val_loss: 0.8987 - val_acc: 0.8300\n",
            "Epoch 105/250\n",
            "800/800 [==============================] - 3s 3ms/step - loss: 0.0434 - acc: 0.9838 - val_loss: 0.8238 - val_acc: 0.8100\n",
            "Epoch 106/250\n",
            "800/800 [==============================] - 3s 3ms/step - loss: 0.0757 - acc: 0.9675 - val_loss: 0.8661 - val_acc: 0.7950\n",
            "Epoch 107/250\n",
            "800/800 [==============================] - 3s 3ms/step - loss: 0.0622 - acc: 0.9700 - val_loss: 0.8542 - val_acc: 0.8100\n",
            "Epoch 108/250\n",
            "800/800 [==============================] - 3s 3ms/step - loss: 0.0396 - acc: 0.9862 - val_loss: 0.9829 - val_acc: 0.7900\n",
            "Epoch 109/250\n",
            "800/800 [==============================] - 3s 3ms/step - loss: 0.0491 - acc: 0.9812 - val_loss: 0.8470 - val_acc: 0.8250\n",
            "Epoch 110/250\n",
            "800/800 [==============================] - 3s 3ms/step - loss: 0.0464 - acc: 0.9825 - val_loss: 0.8943 - val_acc: 0.8000\n",
            "Epoch 111/250\n",
            "800/800 [==============================] - 3s 3ms/step - loss: 0.0416 - acc: 0.9850 - val_loss: 0.9032 - val_acc: 0.8000\n",
            "Epoch 112/250\n",
            "800/800 [==============================] - 3s 3ms/step - loss: 0.0782 - acc: 0.9738 - val_loss: 0.8710 - val_acc: 0.8100\n",
            "Epoch 113/250\n",
            "800/800 [==============================] - 3s 3ms/step - loss: 0.0349 - acc: 0.9900 - val_loss: 0.8468 - val_acc: 0.8150\n",
            "Epoch 114/250\n",
            "800/800 [==============================] - 3s 3ms/step - loss: 0.0602 - acc: 0.9812 - val_loss: 1.0310 - val_acc: 0.7900\n",
            "Epoch 115/250\n",
            "800/800 [==============================] - 3s 3ms/step - loss: 0.0699 - acc: 0.9788 - val_loss: 0.8827 - val_acc: 0.7950\n",
            "Epoch 116/250\n",
            "800/800 [==============================] - 3s 3ms/step - loss: 0.0621 - acc: 0.9725 - val_loss: 0.7699 - val_acc: 0.8250\n",
            "Epoch 117/250\n",
            "800/800 [==============================] - 3s 3ms/step - loss: 0.0913 - acc: 0.9688 - val_loss: 0.8351 - val_acc: 0.7900\n",
            "Epoch 118/250\n",
            "800/800 [==============================] - 3s 3ms/step - loss: 0.0692 - acc: 0.9800 - val_loss: 0.6751 - val_acc: 0.8450\n",
            "Epoch 119/250\n",
            "800/800 [==============================] - 3s 3ms/step - loss: 0.0809 - acc: 0.9662 - val_loss: 0.8423 - val_acc: 0.7900\n",
            "Epoch 120/250\n",
            "800/800 [==============================] - 3s 3ms/step - loss: 0.0702 - acc: 0.9800 - val_loss: 0.8520 - val_acc: 0.8200\n",
            "Epoch 121/250\n",
            "800/800 [==============================] - 3s 3ms/step - loss: 0.0475 - acc: 0.9812 - val_loss: 0.8645 - val_acc: 0.8350\n",
            "Epoch 122/250\n",
            "800/800 [==============================] - 3s 3ms/step - loss: 0.1094 - acc: 0.9713 - val_loss: 0.7817 - val_acc: 0.8300\n",
            "Epoch 123/250\n",
            "800/800 [==============================] - 3s 3ms/step - loss: 0.0550 - acc: 0.9812 - val_loss: 0.7621 - val_acc: 0.8250\n",
            "Epoch 124/250\n",
            "800/800 [==============================] - 3s 3ms/step - loss: 0.0649 - acc: 0.9800 - val_loss: 0.8861 - val_acc: 0.8300\n",
            "Epoch 125/250\n",
            "800/800 [==============================] - 3s 3ms/step - loss: 0.0848 - acc: 0.9713 - val_loss: 0.8295 - val_acc: 0.8350\n",
            "Epoch 126/250\n",
            "800/800 [==============================] - 3s 3ms/step - loss: 0.0339 - acc: 0.9925 - val_loss: 0.7325 - val_acc: 0.8400\n",
            "Epoch 127/250\n",
            "800/800 [==============================] - 3s 3ms/step - loss: 0.0509 - acc: 0.9825 - val_loss: 0.7518 - val_acc: 0.8250\n",
            "Epoch 128/250\n",
            "800/800 [==============================] - 3s 3ms/step - loss: 0.0363 - acc: 0.9888 - val_loss: 0.7477 - val_acc: 0.8300\n",
            "Epoch 129/250\n",
            "800/800 [==============================] - 3s 3ms/step - loss: 0.0463 - acc: 0.9825 - val_loss: 0.9230 - val_acc: 0.8000\n",
            "Epoch 130/250\n",
            "800/800 [==============================] - 3s 3ms/step - loss: 0.0520 - acc: 0.9788 - val_loss: 0.8307 - val_acc: 0.8250\n",
            "Epoch 131/250\n",
            "800/800 [==============================] - 3s 3ms/step - loss: 0.0613 - acc: 0.9788 - val_loss: 0.6634 - val_acc: 0.8300\n",
            "Epoch 132/250\n",
            "800/800 [==============================] - 3s 3ms/step - loss: 0.0411 - acc: 0.9850 - val_loss: 0.8021 - val_acc: 0.8100\n",
            "Epoch 133/250\n",
            "800/800 [==============================] - 3s 3ms/step - loss: 0.0496 - acc: 0.9838 - val_loss: 0.8783 - val_acc: 0.8350\n",
            "Epoch 134/250\n",
            "800/800 [==============================] - 3s 3ms/step - loss: 0.0427 - acc: 0.9862 - val_loss: 0.6580 - val_acc: 0.8350\n",
            "Epoch 135/250\n",
            "800/800 [==============================] - 3s 3ms/step - loss: 0.0871 - acc: 0.9700 - val_loss: 0.8113 - val_acc: 0.7900\n",
            "Epoch 136/250\n",
            "800/800 [==============================] - 3s 3ms/step - loss: 0.0861 - acc: 0.9688 - val_loss: 0.8408 - val_acc: 0.8150\n",
            "Epoch 137/250\n",
            "800/800 [==============================] - 3s 3ms/step - loss: 0.0744 - acc: 0.9750 - val_loss: 0.7727 - val_acc: 0.8250\n",
            "Epoch 138/250\n",
            "800/800 [==============================] - 3s 3ms/step - loss: 0.0732 - acc: 0.9750 - val_loss: 0.8180 - val_acc: 0.8400\n",
            "Epoch 139/250\n",
            "800/800 [==============================] - 3s 3ms/step - loss: 0.0801 - acc: 0.9763 - val_loss: 0.8714 - val_acc: 0.8000\n",
            "Epoch 140/250\n",
            "800/800 [==============================] - 3s 3ms/step - loss: 0.0902 - acc: 0.9612 - val_loss: 0.8634 - val_acc: 0.8150\n",
            "Epoch 141/250\n",
            "800/800 [==============================] - 3s 3ms/step - loss: 0.0751 - acc: 0.9713 - val_loss: 0.7250 - val_acc: 0.8050\n",
            "Epoch 142/250\n",
            "800/800 [==============================] - 3s 3ms/step - loss: 0.0555 - acc: 0.9825 - val_loss: 1.0393 - val_acc: 0.7750\n",
            "Epoch 143/250\n",
            "800/800 [==============================] - 3s 3ms/step - loss: 0.0785 - acc: 0.9688 - val_loss: 0.8547 - val_acc: 0.8300\n",
            "Epoch 144/250\n",
            "800/800 [==============================] - 3s 3ms/step - loss: 0.0438 - acc: 0.9850 - val_loss: 0.8986 - val_acc: 0.8300\n",
            "Epoch 145/250\n",
            "800/800 [==============================] - 3s 3ms/step - loss: 0.0508 - acc: 0.9838 - val_loss: 0.8089 - val_acc: 0.8300\n",
            "Epoch 146/250\n",
            "800/800 [==============================] - 3s 3ms/step - loss: 0.0284 - acc: 0.9937 - val_loss: 0.8352 - val_acc: 0.8100\n",
            "Epoch 147/250\n",
            "800/800 [==============================] - 3s 3ms/step - loss: 0.0478 - acc: 0.9763 - val_loss: 0.7966 - val_acc: 0.8200\n",
            "Epoch 148/250\n",
            "800/800 [==============================] - 3s 3ms/step - loss: 0.0434 - acc: 0.9850 - val_loss: 0.8956 - val_acc: 0.8100\n",
            "Epoch 149/250\n",
            "800/800 [==============================] - 3s 3ms/step - loss: 0.0473 - acc: 0.9838 - val_loss: 0.8434 - val_acc: 0.8300\n",
            "Epoch 150/250\n",
            "800/800 [==============================] - 3s 3ms/step - loss: 0.0676 - acc: 0.9750 - val_loss: 0.8574 - val_acc: 0.8150\n",
            "Epoch 151/250\n",
            "800/800 [==============================] - 3s 3ms/step - loss: 0.0558 - acc: 0.9775 - val_loss: 0.8239 - val_acc: 0.8150\n",
            "Epoch 152/250\n",
            "800/800 [==============================] - 3s 3ms/step - loss: 0.0670 - acc: 0.9763 - val_loss: 0.9940 - val_acc: 0.8350\n",
            "Epoch 153/250\n",
            "800/800 [==============================] - 3s 3ms/step - loss: 0.0569 - acc: 0.9738 - val_loss: 0.7885 - val_acc: 0.8400\n",
            "Epoch 154/250\n",
            "800/800 [==============================] - 3s 3ms/step - loss: 0.0472 - acc: 0.9862 - val_loss: 0.9251 - val_acc: 0.8200\n",
            "Epoch 155/250\n",
            "800/800 [==============================] - 3s 3ms/step - loss: 0.0416 - acc: 0.9812 - val_loss: 0.7812 - val_acc: 0.8200\n",
            "Epoch 156/250\n",
            "800/800 [==============================] - 3s 3ms/step - loss: 0.0540 - acc: 0.9812 - val_loss: 0.7592 - val_acc: 0.8150\n",
            "Epoch 157/250\n",
            "800/800 [==============================] - 3s 3ms/step - loss: 0.0744 - acc: 0.9763 - val_loss: 0.9105 - val_acc: 0.7800\n",
            "Epoch 158/250\n",
            "800/800 [==============================] - 3s 3ms/step - loss: 0.0342 - acc: 0.9888 - val_loss: 0.9806 - val_acc: 0.8000\n",
            "Epoch 159/250\n",
            "800/800 [==============================] - 3s 3ms/step - loss: 0.0577 - acc: 0.9775 - val_loss: 0.7914 - val_acc: 0.8200\n",
            "Epoch 160/250\n",
            "800/800 [==============================] - 3s 3ms/step - loss: 0.0478 - acc: 0.9862 - val_loss: 0.7845 - val_acc: 0.8350\n",
            "Epoch 161/250\n",
            "800/800 [==============================] - 3s 3ms/step - loss: 0.0616 - acc: 0.9738 - val_loss: 0.7924 - val_acc: 0.8050\n",
            "Epoch 162/250\n",
            "800/800 [==============================] - 3s 3ms/step - loss: 0.0318 - acc: 0.9888 - val_loss: 0.7557 - val_acc: 0.8350\n",
            "Epoch 163/250\n",
            "800/800 [==============================] - 3s 3ms/step - loss: 0.0560 - acc: 0.9763 - val_loss: 0.8402 - val_acc: 0.8100\n",
            "Epoch 164/250\n",
            "800/800 [==============================] - 3s 3ms/step - loss: 0.0809 - acc: 0.9713 - val_loss: 0.6915 - val_acc: 0.8450\n",
            "Epoch 165/250\n",
            "800/800 [==============================] - 3s 3ms/step - loss: 0.0590 - acc: 0.9812 - val_loss: 0.6877 - val_acc: 0.8150\n",
            "Epoch 166/250\n",
            "800/800 [==============================] - 3s 3ms/step - loss: 0.0803 - acc: 0.9700 - val_loss: 0.9993 - val_acc: 0.7900\n",
            "Epoch 167/250\n",
            "800/800 [==============================] - 3s 3ms/step - loss: 0.0746 - acc: 0.9700 - val_loss: 1.0878 - val_acc: 0.7550\n",
            "Epoch 168/250\n",
            "800/800 [==============================] - 3s 3ms/step - loss: 0.1020 - acc: 0.9650 - val_loss: 0.8310 - val_acc: 0.8400\n",
            "Epoch 169/250\n",
            "800/800 [==============================] - 3s 3ms/step - loss: 0.0510 - acc: 0.9825 - val_loss: 0.8754 - val_acc: 0.8000\n",
            "Epoch 170/250\n",
            "800/800 [==============================] - 3s 3ms/step - loss: 0.0535 - acc: 0.9812 - val_loss: 0.7679 - val_acc: 0.8150\n",
            "Epoch 171/250\n",
            "800/800 [==============================] - 3s 3ms/step - loss: 0.0630 - acc: 0.9800 - val_loss: 0.7311 - val_acc: 0.8350\n",
            "Epoch 172/250\n",
            "800/800 [==============================] - 3s 3ms/step - loss: 0.0684 - acc: 0.9750 - val_loss: 0.9779 - val_acc: 0.7850\n",
            "Epoch 173/250\n",
            "800/800 [==============================] - 3s 3ms/step - loss: 0.0549 - acc: 0.9850 - val_loss: 0.9822 - val_acc: 0.8000\n",
            "Epoch 174/250\n",
            "800/800 [==============================] - 3s 3ms/step - loss: 0.0623 - acc: 0.9788 - val_loss: 0.8164 - val_acc: 0.8300\n",
            "Epoch 175/250\n",
            "800/800 [==============================] - 3s 3ms/step - loss: 0.0471 - acc: 0.9875 - val_loss: 0.6455 - val_acc: 0.8500\n",
            "Epoch 176/250\n",
            "800/800 [==============================] - 3s 3ms/step - loss: 0.0512 - acc: 0.9862 - val_loss: 0.6897 - val_acc: 0.8250\n",
            "Epoch 177/250\n",
            "800/800 [==============================] - 3s 3ms/step - loss: 0.0553 - acc: 0.9800 - val_loss: 0.8709 - val_acc: 0.8300\n",
            "Epoch 178/250\n",
            "800/800 [==============================] - 3s 3ms/step - loss: 0.0543 - acc: 0.9850 - val_loss: 0.6672 - val_acc: 0.8250\n",
            "Epoch 179/250\n",
            "800/800 [==============================] - 3s 3ms/step - loss: 0.0255 - acc: 0.9913 - val_loss: 0.7013 - val_acc: 0.8400\n",
            "Epoch 180/250\n",
            "800/800 [==============================] - 3s 3ms/step - loss: 0.0571 - acc: 0.9825 - val_loss: 0.8137 - val_acc: 0.8250\n",
            "Epoch 181/250\n",
            "800/800 [==============================] - 3s 3ms/step - loss: 0.0410 - acc: 0.9875 - val_loss: 0.8985 - val_acc: 0.7900\n",
            "Epoch 182/250\n",
            "800/800 [==============================] - 3s 3ms/step - loss: 0.0281 - acc: 0.9913 - val_loss: 0.7814 - val_acc: 0.8250\n",
            "Epoch 183/250\n",
            "800/800 [==============================] - 3s 3ms/step - loss: 0.0307 - acc: 0.9913 - val_loss: 0.8854 - val_acc: 0.7850\n",
            "Epoch 184/250\n",
            "800/800 [==============================] - 3s 3ms/step - loss: 0.0393 - acc: 0.9900 - val_loss: 0.6478 - val_acc: 0.8650\n",
            "Epoch 185/250\n",
            "800/800 [==============================] - 3s 3ms/step - loss: 0.0511 - acc: 0.9800 - val_loss: 0.8396 - val_acc: 0.8200\n",
            "Epoch 186/250\n",
            "800/800 [==============================] - 3s 3ms/step - loss: 0.1108 - acc: 0.9637 - val_loss: 0.8310 - val_acc: 0.8350\n",
            "Epoch 187/250\n",
            "800/800 [==============================] - 3s 3ms/step - loss: 0.0738 - acc: 0.9725 - val_loss: 0.8806 - val_acc: 0.8050\n",
            "Epoch 188/250\n",
            "800/800 [==============================] - 3s 3ms/step - loss: 0.0676 - acc: 0.9775 - val_loss: 0.9520 - val_acc: 0.7600\n",
            "Epoch 189/250\n",
            "800/800 [==============================] - 3s 3ms/step - loss: 0.0539 - acc: 0.9850 - val_loss: 0.8326 - val_acc: 0.8350\n",
            "Epoch 190/250\n",
            "800/800 [==============================] - 3s 3ms/step - loss: 0.0478 - acc: 0.9825 - val_loss: 0.6968 - val_acc: 0.8650\n",
            "Epoch 191/250\n",
            "800/800 [==============================] - 3s 3ms/step - loss: 0.0480 - acc: 0.9862 - val_loss: 0.8102 - val_acc: 0.7950\n",
            "Epoch 192/250\n",
            "800/800 [==============================] - 3s 3ms/step - loss: 0.0366 - acc: 0.9862 - val_loss: 0.8341 - val_acc: 0.8000\n",
            "Epoch 193/250\n",
            "800/800 [==============================] - 3s 3ms/step - loss: 0.0477 - acc: 0.9850 - val_loss: 0.5368 - val_acc: 0.9000\n",
            "Epoch 194/250\n",
            "800/800 [==============================] - 3s 3ms/step - loss: 0.0364 - acc: 0.9850 - val_loss: 0.9599 - val_acc: 0.8150\n",
            "Epoch 195/250\n",
            "800/800 [==============================] - 3s 3ms/step - loss: 0.0539 - acc: 0.9812 - val_loss: 0.7734 - val_acc: 0.8500\n",
            "Epoch 196/250\n",
            "800/800 [==============================] - 3s 3ms/step - loss: 0.0619 - acc: 0.9800 - val_loss: 0.7986 - val_acc: 0.8450\n",
            "Epoch 197/250\n",
            "800/800 [==============================] - 3s 3ms/step - loss: 0.0638 - acc: 0.9763 - val_loss: 0.7857 - val_acc: 0.8650\n",
            "Epoch 198/250\n",
            "800/800 [==============================] - 3s 3ms/step - loss: 0.0547 - acc: 0.9800 - val_loss: 0.8741 - val_acc: 0.8050\n",
            "Epoch 199/250\n",
            "800/800 [==============================] - 3s 3ms/step - loss: 0.0564 - acc: 0.9812 - val_loss: 0.7104 - val_acc: 0.8350\n",
            "Epoch 200/250\n",
            "800/800 [==============================] - 3s 3ms/step - loss: 0.0389 - acc: 0.9862 - val_loss: 0.7614 - val_acc: 0.8350\n",
            "Epoch 201/250\n",
            "800/800 [==============================] - 3s 3ms/step - loss: 0.0386 - acc: 0.9825 - val_loss: 0.6558 - val_acc: 0.8350\n",
            "Epoch 202/250\n",
            "800/800 [==============================] - 3s 3ms/step - loss: 0.0485 - acc: 0.9800 - val_loss: 0.9858 - val_acc: 0.8250\n",
            "Epoch 203/250\n",
            "800/800 [==============================] - 3s 3ms/step - loss: 0.0253 - acc: 0.9888 - val_loss: 0.7871 - val_acc: 0.8300\n",
            "Epoch 204/250\n",
            "800/800 [==============================] - 3s 3ms/step - loss: 0.0364 - acc: 0.9862 - val_loss: 0.8355 - val_acc: 0.8100\n",
            "Epoch 205/250\n",
            "800/800 [==============================] - 3s 3ms/step - loss: 0.0297 - acc: 0.9875 - val_loss: 0.9007 - val_acc: 0.8250\n",
            "Epoch 206/250\n",
            "800/800 [==============================] - 3s 3ms/step - loss: 0.0487 - acc: 0.9875 - val_loss: 0.8313 - val_acc: 0.8250\n",
            "Epoch 207/250\n",
            "800/800 [==============================] - 3s 3ms/step - loss: 0.0441 - acc: 0.9875 - val_loss: 0.8043 - val_acc: 0.8350\n",
            "Epoch 208/250\n",
            "800/800 [==============================] - 3s 3ms/step - loss: 0.0463 - acc: 0.9850 - val_loss: 0.8020 - val_acc: 0.8350\n",
            "Epoch 209/250\n",
            "800/800 [==============================] - 3s 3ms/step - loss: 0.0740 - acc: 0.9825 - val_loss: 1.0107 - val_acc: 0.7650\n",
            "Epoch 210/250\n",
            "800/800 [==============================] - 3s 3ms/step - loss: 0.0545 - acc: 0.9812 - val_loss: 0.7737 - val_acc: 0.8500\n",
            "Epoch 211/250\n",
            "800/800 [==============================] - 3s 3ms/step - loss: 0.0482 - acc: 0.9838 - val_loss: 0.7796 - val_acc: 0.8350\n",
            "Epoch 212/250\n",
            "800/800 [==============================] - 3s 3ms/step - loss: 0.0618 - acc: 0.9825 - val_loss: 0.9950 - val_acc: 0.8000\n",
            "Epoch 213/250\n",
            "800/800 [==============================] - 3s 3ms/step - loss: 0.0398 - acc: 0.9862 - val_loss: 0.8097 - val_acc: 0.7900\n",
            "Epoch 214/250\n",
            "800/800 [==============================] - 3s 3ms/step - loss: 0.0600 - acc: 0.9775 - val_loss: 0.9726 - val_acc: 0.7950\n",
            "Epoch 215/250\n",
            "800/800 [==============================] - 3s 3ms/step - loss: 0.0293 - acc: 0.9875 - val_loss: 0.9417 - val_acc: 0.8050\n",
            "Epoch 216/250\n",
            "800/800 [==============================] - 3s 3ms/step - loss: 0.0534 - acc: 0.9788 - val_loss: 0.9365 - val_acc: 0.8100\n",
            "Epoch 217/250\n",
            "800/800 [==============================] - 3s 3ms/step - loss: 0.0498 - acc: 0.9850 - val_loss: 0.8188 - val_acc: 0.8450\n",
            "Epoch 218/250\n",
            "800/800 [==============================] - 3s 3ms/step - loss: 0.0233 - acc: 0.9913 - val_loss: 0.8201 - val_acc: 0.8050\n",
            "Epoch 219/250\n",
            "800/800 [==============================] - 3s 3ms/step - loss: 0.0382 - acc: 0.9850 - val_loss: 0.8861 - val_acc: 0.8300\n",
            "Epoch 220/250\n",
            "800/800 [==============================] - 3s 3ms/step - loss: 0.0520 - acc: 0.9775 - val_loss: 0.8450 - val_acc: 0.8300\n",
            "Epoch 221/250\n",
            "800/800 [==============================] - 3s 3ms/step - loss: 0.0955 - acc: 0.9713 - val_loss: 0.8606 - val_acc: 0.8000\n",
            "Epoch 222/250\n",
            "800/800 [==============================] - 3s 3ms/step - loss: 0.1304 - acc: 0.9500 - val_loss: 0.8265 - val_acc: 0.8050\n",
            "Epoch 223/250\n",
            "800/800 [==============================] - 3s 3ms/step - loss: 0.0992 - acc: 0.9700 - val_loss: 1.0635 - val_acc: 0.7850\n",
            "Epoch 224/250\n",
            "800/800 [==============================] - 3s 3ms/step - loss: 0.0704 - acc: 0.9750 - val_loss: 0.9162 - val_acc: 0.8250\n",
            "Epoch 225/250\n",
            "800/800 [==============================] - 3s 3ms/step - loss: 0.0689 - acc: 0.9812 - val_loss: 0.6933 - val_acc: 0.8650\n",
            "Epoch 226/250\n",
            "800/800 [==============================] - 3s 3ms/step - loss: 0.0723 - acc: 0.9763 - val_loss: 0.7960 - val_acc: 0.8150\n",
            "Epoch 227/250\n",
            "800/800 [==============================] - 3s 3ms/step - loss: 0.0403 - acc: 0.9862 - val_loss: 0.7656 - val_acc: 0.8450\n",
            "Epoch 228/250\n",
            "800/800 [==============================] - 3s 3ms/step - loss: 0.0450 - acc: 0.9850 - val_loss: 0.8862 - val_acc: 0.8200\n",
            "Epoch 229/250\n",
            "800/800 [==============================] - 3s 3ms/step - loss: 0.0468 - acc: 0.9862 - val_loss: 0.7073 - val_acc: 0.8300\n",
            "Epoch 230/250\n",
            "800/800 [==============================] - 3s 3ms/step - loss: 0.0479 - acc: 0.9800 - val_loss: 0.7208 - val_acc: 0.8300\n",
            "Epoch 231/250\n",
            "800/800 [==============================] - 3s 3ms/step - loss: 0.0352 - acc: 0.9888 - val_loss: 0.8360 - val_acc: 0.8150\n",
            "Epoch 232/250\n",
            "800/800 [==============================] - 3s 3ms/step - loss: 0.0291 - acc: 0.9913 - val_loss: 0.8775 - val_acc: 0.8400\n",
            "Epoch 233/250\n",
            "800/800 [==============================] - 3s 3ms/step - loss: 0.0232 - acc: 0.9937 - val_loss: 0.7685 - val_acc: 0.8400\n",
            "Epoch 234/250\n",
            "800/800 [==============================] - 3s 3ms/step - loss: 0.0505 - acc: 0.9812 - val_loss: 1.0063 - val_acc: 0.8150\n",
            "Epoch 235/250\n",
            "800/800 [==============================] - 3s 3ms/step - loss: 0.0470 - acc: 0.9838 - val_loss: 0.8781 - val_acc: 0.8100\n",
            "Epoch 236/250\n",
            "800/800 [==============================] - 3s 3ms/step - loss: 0.0352 - acc: 0.9862 - val_loss: 0.8296 - val_acc: 0.8250\n",
            "Epoch 237/250\n",
            "800/800 [==============================] - 3s 3ms/step - loss: 0.0292 - acc: 0.9900 - val_loss: 0.7409 - val_acc: 0.8400\n",
            "Epoch 238/250\n",
            "800/800 [==============================] - 3s 3ms/step - loss: 0.0145 - acc: 0.9962 - val_loss: 0.8274 - val_acc: 0.8450\n",
            "Epoch 239/250\n",
            "800/800 [==============================] - 3s 3ms/step - loss: 0.0212 - acc: 0.9900 - val_loss: 0.8099 - val_acc: 0.8050\n",
            "Epoch 240/250\n",
            "800/800 [==============================] - 3s 3ms/step - loss: 0.0254 - acc: 0.9888 - val_loss: 0.9082 - val_acc: 0.8300\n",
            "Epoch 241/250\n",
            "800/800 [==============================] - 3s 3ms/step - loss: 0.0247 - acc: 0.9925 - val_loss: 0.7644 - val_acc: 0.8550\n",
            "Epoch 242/250\n",
            "800/800 [==============================] - 3s 3ms/step - loss: 0.0335 - acc: 0.9862 - val_loss: 0.7437 - val_acc: 0.8450\n",
            "Epoch 243/250\n",
            "800/800 [==============================] - 3s 3ms/step - loss: 0.0464 - acc: 0.9875 - val_loss: 0.6484 - val_acc: 0.8600\n",
            "Epoch 244/250\n",
            "800/800 [==============================] - 3s 3ms/step - loss: 0.0706 - acc: 0.9713 - val_loss: 0.8400 - val_acc: 0.8000\n",
            "Epoch 245/250\n",
            "800/800 [==============================] - 3s 3ms/step - loss: 0.0332 - acc: 0.9913 - val_loss: 0.8200 - val_acc: 0.8200\n",
            "Epoch 246/250\n",
            "800/800 [==============================] - 3s 3ms/step - loss: 0.0506 - acc: 0.9800 - val_loss: 0.8086 - val_acc: 0.8200\n",
            "Epoch 247/250\n",
            "800/800 [==============================] - 3s 3ms/step - loss: 0.0432 - acc: 0.9875 - val_loss: 0.8549 - val_acc: 0.8250\n",
            "Epoch 248/250\n",
            "800/800 [==============================] - 3s 3ms/step - loss: 0.0360 - acc: 0.9888 - val_loss: 0.7413 - val_acc: 0.8250\n",
            "Epoch 249/250\n",
            "800/800 [==============================] - 3s 3ms/step - loss: 0.0481 - acc: 0.9800 - val_loss: 0.9115 - val_acc: 0.8000\n",
            "Epoch 250/250\n",
            "800/800 [==============================] - 3s 3ms/step - loss: 0.0372 - acc: 0.9875 - val_loss: 0.7669 - val_acc: 0.8200\n"
          ],
          "name": "stdout"
        },
        {
          "output_type": "execute_result",
          "data": {
            "text/plain": [
              "<keras.callbacks.History at 0x7f7cf9aaaa90>"
            ]
          },
          "metadata": {
            "tags": []
          },
          "execution_count": 116
        }
      ]
    },
    {
      "metadata": {
        "id": "GxjQPIEvQhDO",
        "colab_type": "code",
        "colab": {}
      },
      "cell_type": "code",
      "source": [
        "names = ['karim', 'omar', 'amr', 'farouq']"
      ],
      "execution_count": 0,
      "outputs": []
    },
    {
      "metadata": {
        "id": "oSJQirpvUPq5",
        "colab_type": "code",
        "colab": {
          "base_uri": "https://localhost:8080/",
          "height": 52
        },
        "outputId": "c6cfb80d-3dc6-4284-d446-7ee1f62dbaa2"
      },
      "cell_type": "code",
      "source": [
        "model.evaluate(X_test, y_test)"
      ],
      "execution_count": 119,
      "outputs": [
        {
          "output_type": "stream",
          "text": [
            "200/200 [==============================] - 0s 2ms/step\n"
          ],
          "name": "stdout"
        },
        {
          "output_type": "execute_result",
          "data": {
            "text/plain": [
              "[1.2138283634185791, 0.8]"
            ]
          },
          "metadata": {
            "tags": []
          },
          "execution_count": 119
        }
      ]
    },
    {
      "metadata": {
        "id": "sRDLsfAUUSL5",
        "colab_type": "code",
        "colab": {
          "base_uri": "https://localhost:8080/",
          "height": 284
        },
        "outputId": "3a7da308-1da8-44ea-823a-64d392910ae8"
      },
      "cell_type": "code",
      "source": [
        "index = np.random.randint(0, 800)\n",
        "plt.imshow(X_train[index].reshape(48, 48, 3))\n",
        "names[np.argmax(model.predict(X_train[index].reshape(1, 48, 48, 3)))]"
      ],
      "execution_count": 178,
      "outputs": [
        {
          "output_type": "execute_result",
          "data": {
            "text/plain": [
              "'omar'"
            ]
          },
          "metadata": {
            "tags": []
          },
          "execution_count": 178
        },
        {
          "output_type": "display_data",
          "data": {
            "image/png": "[encoded data removed]",
            "text/plain": [
              "<matplotlib.figure.Figure at 0x7f7cf8e2ebe0>"
            ]
          },
          "metadata": {
            "tags": []
          }
        }
      ]
    },
    {
      "metadata": {
        "id": "NEZ7KW7jUVsP",
        "colab_type": "code",
        "colab": {
          "base_uri": "https://localhost:8080/",
          "height": 34
        },
        "outputId": "9283ec01-e4fc-43d4-c720-7b82f96d9161"
      },
      "cell_type": "code",
      "source": [
        "print(\"train acc: \", np.sum(np.argmax(model.predict(X_train), axis=1) == np.argmax(y_train, axis=1)) / 800)"
      ],
      "execution_count": 169,
      "outputs": [
        {
          "output_type": "stream",
          "text": [
            "train acc:  0.95625\n"
          ],
          "name": "stdout"
        }
      ]
    },
    {
      "metadata": {
        "id": "8KiMZ38Lx7I7",
        "colab_type": "code",
        "colab": {
          "base_uri": "https://localhost:8080/",
          "height": 34
        },
        "outputId": "3a683edf-4a31-4f7f-92ab-2f9efba0f2d0"
      },
      "cell_type": "code",
      "source": [
        "print(\"test acc: \", np.sum(np.argmax(model.predict(X_test), axis=1) == np.argmax(y_test, axis=1)) / 200)"
      ],
      "execution_count": 148,
      "outputs": [
        {
          "output_type": "stream",
          "text": [
            "test acc:  0.79\n"
          ],
          "name": "stdout"
        }
      ]
    },
    {
      "metadata": {
        "id": "OXTBNuvF2z6D",
        "colab_type": "code",
        "colab": {}
      },
      "cell_type": "code",
      "source": [
        ""
      ],
      "execution_count": 0,
      "outputs": []
    }
  ]
}