{
 "cells": [
  {
   "cell_type": "markdown",
   "metadata": {
    "colab_type": "text",
    "id": "view-in-github"
   },
   "source": [
    "<a href=\"https://colab.research.google.com/github/MahmoudFarouq/faceVerification/blob/master/CNN_ResNet.ipynb\" target=\"_parent\"><img src=\"https://colab.research.google.com/assets/colab-badge.svg\" alt=\"Open In Colab\"/></a>"
   ]
  },
  {
   "cell_type": "code",
   "execution_count": 1,
   "metadata": {
    "colab": {
     "base_uri": "https://localhost:8080/",
     "height": 34
    },
    "colab_type": "code",
    "id": "dO-pdwg6Nl3r",
    "outputId": "1a72b63b-e303-4ab4-8242-737236a2fd43"
   },
   "outputs": [
    {
     "name": "stderr",
     "output_type": "stream",
     "text": [
      "Using TensorFlow backend.\n"
     ]
    }
   ],
   "source": [
    "import os\n",
    "import pickle\n",
    "\n",
    "import numpy as np\n",
    "import matplotlib.pyplot as plt\n",
    "from sklearn.model_selection import train_test_split\n",
    "from sklearn.preprocessing import OneHotEncoder\n",
    "\n",
    "from keras.layers import Input, Add, Dense, Activation, ZeroPadding2D, BatchNormalization, Flatten, Conv2D, AveragePooling2D, MaxPooling2D, Dropout\n",
    "from keras.optimizers import Adam\n",
    "from keras.models import Model\n",
    "from keras.initializers import glorot_uniform\n",
    "%matplotlib inline\n",
    "\n",
    "import keras.backend as K\n",
    "K.set_image_data_format('channels_last')\n",
    "K.set_learning_phase(1)"
   ]
  },
  {
   "cell_type": "code",
   "execution_count": 3,
   "metadata": {
    "colab": {},
    "colab_type": "code",
    "id": "UYj_AbTggOHk"
   },
   "outputs": [],
   "source": [
    "from numpy.random import seed\n",
    "seed(1)\n",
    "drop = 0.3"
   ]
  },
  {
   "cell_type": "code",
   "execution_count": 4,
   "metadata": {
    "colab": {},
    "colab_type": "code",
    "id": "cg2A7loWN1Px"
   },
   "outputs": [],
   "source": [
    "def resNetBlock_Identity(X, f, filters, stage, block):\n",
    "  \n",
    "    conv_name_base = 'res' + str(stage) + block + '_branch'\n",
    "    bn_name_base = 'bn' + str(stage) + block + '_branch'\n",
    "\n",
    "    F1, F2, F3 = filters\n",
    "    short_cut = X\n",
    "\n",
    "    X = Conv2D(filters=F1, kernel_size=(1, 1), strides=(1, 1), padding='valid', name = conv_name_base + '2a', kernel_initializer = glorot_uniform(seed=0))(X)\n",
    "    X = BatchNormalization(axis = 3, name = bn_name_base + '2a')(X)\n",
    "    X = Activation('relu')(X)\n",
    "    X = Dropout(drop)(X)\n",
    "\n",
    "    X = Conv2D(filters=F2, kernel_size=(f, f), strides=(1, 1), padding='same' , name = conv_name_base + '2b', kernel_initializer = glorot_uniform(seed=0))(X)\n",
    "    X = BatchNormalization(axis = 3, name = bn_name_base + '2b')(X)\n",
    "    X = Activation('relu')(X)\n",
    "    X = Dropout(drop)(X)\n",
    "\n",
    "    X = Conv2D(filters=F3, kernel_size=(1, 1), strides=(1, 1), padding='valid', name = conv_name_base + '2c', kernel_initializer = glorot_uniform(seed=0))(X)\n",
    "    X = BatchNormalization(axis = 3, name = bn_name_base + '2c')(X)\n",
    "    X = Add()([X, short_cut])\n",
    "    X = Activation('relu')(X)\n",
    "    X = Dropout(drop)(X)\n",
    "\n",
    "    return X"
   ]
  },
  {
   "cell_type": "code",
   "execution_count": 5,
   "metadata": {
    "colab": {},
    "colab_type": "code",
    "id": "hPmI6mC0OBnI"
   },
   "outputs": [],
   "source": [
    "def resNetBlock_convolutional(X, f, filters, stage, block, s=2):\n",
    "  \n",
    "    conv_name_base = 'res' + str(stage) + block + '_branch'\n",
    "    bn_name_base = 'bn' + str(stage) + block + '_branch'\n",
    "\n",
    "    F1, F2, F3 = filters\n",
    "    short_cut = X\n",
    "\n",
    "    X = Conv2D(filters=F1, kernel_size=(1, 1), strides=(s, s), padding='valid', name = conv_name_base + '2a', kernel_initializer = glorot_uniform(seed=0))(X)\n",
    "    X = BatchNormalization(axis = 3, name = bn_name_base + '2a')(X)\n",
    "    X = Activation('relu')(X)\n",
    "    X = Dropout(drop)(X)\n",
    "\n",
    "    X = Conv2D(filters=F2, kernel_size=(f, f), strides=(1, 1), padding='same' , name = conv_name_base + '2b', kernel_initializer = glorot_uniform(seed=0))(X)\n",
    "    X = BatchNormalization(axis = 3, name = bn_name_base + '2b')(X)\n",
    "    X = Activation('relu')(X)\n",
    "    X = Dropout(drop)(X)\n",
    "\n",
    "    X = Conv2D(filters=F3, kernel_size=(1, 1), strides=(1, 1), padding='same', name = conv_name_base + '2c', kernel_initializer = glorot_uniform(seed=0))(X)\n",
    "    X = BatchNormalization(axis = 3, name = bn_name_base + '2c')(X)\n",
    "\n",
    "    short_cut = Conv2D(filters=F3, kernel_size=(1, 1), strides=(s, s), padding='valid' , name = conv_name_base + '1', kernel_initializer = glorot_uniform(seed=0))(short_cut)\n",
    "    short_cut = BatchNormalization(axis = 3, name = bn_name_base + '1')(short_cut)\n",
    "\n",
    "    X = Add()([X, short_cut])\n",
    "    X = Activation('relu')(X)\n",
    "    X = Dropout(drop)(X)\n",
    "    return X"
   ]
  },
  {
   "cell_type": "code",
   "execution_count": 6,
   "metadata": {
    "colab": {},
    "colab_type": "code",
    "id": "CHZ5vhoYOK-Y"
   },
   "outputs": [],
   "source": [
    "def ResNet50(input_shape=(48, 48, 3), classes=4):\n",
    "\n",
    "    X_input = Input(input_shape)\n",
    "\n",
    "    X = ZeroPadding2D((3, 3))(X_input)\n",
    "\n",
    "    X = Conv2D(64, (7, 7), strides=(2, 2), name='conv1', kernel_initializer=glorot_uniform(seed=0))(X)\n",
    "    X = BatchNormalization(axis=3, name='bn_conv1')(X)\n",
    "    X = Activation('relu')(X)\n",
    "    X = MaxPooling2D((3, 3), strides=(2, 2))(X)\n",
    "\n",
    "    X = resNetBlock_convolutional(X, f=3, filters=[64, 64, 256], stage=2, block='a', s=1)\n",
    "    X = resNetBlock_Identity(X, 3, [64, 64, 256], stage=2, block='b')\n",
    "    X = resNetBlock_Identity(X, 3, [64, 64, 256], stage=2, block='c')\n",
    "\n",
    "    X = resNetBlock_convolutional(X, f=3, filters=[128, 128, 512], stage=3, block='a', s=2)\n",
    "    X = resNetBlock_Identity(X, 3, [128, 128, 512], stage=3, block='b')\n",
    "    X = resNetBlock_Identity(X, 3, [128, 128, 512], stage=3, block='c')\n",
    "    X = resNetBlock_Identity(X, 3, [128, 128, 512], stage=3, block='d')\n",
    "\n",
    "    X = resNetBlock_convolutional(X, f=3, filters=[256, 256, 1024], stage=4, block='a', s=2)\n",
    "    X = resNetBlock_Identity(X, 3, [256, 256, 1024], stage=4, block='b')\n",
    "    X = resNetBlock_Identity(X, 3, [256, 256, 1024], stage=4, block='c')\n",
    "    X = resNetBlock_Identity(X, 3, [256, 256, 1024], stage=4, block='d')\n",
    "    X = resNetBlock_Identity(X, 3, [256, 256, 1024], stage=4, block='e')\n",
    "    X = resNetBlock_Identity(X, 3, [256, 256, 1024], stage=4, block='f')\n",
    "\n",
    "    X = resNetBlock_convolutional(X, f=3, filters=[512, 512, 2048], stage=5, block='a', s=2)\n",
    "    X = resNetBlock_Identity(X, 3, [512, 512, 2048], stage=5, block='b')\n",
    "    X = resNetBlock_Identity(X, 3, [512, 512, 2048], stage=5, block='c')\n",
    "\n",
    "    X = AveragePooling2D(pool_size=(2, 2), padding='same')(X)\n",
    "\n",
    "    X = Flatten()(X)\n",
    "    X = Dense(classes, activation='softmax', name='fc' + str(classes), kernel_initializer=glorot_uniform(seed=0))(X)\n",
    "\n",
    "    model = Model(inputs=X_input, outputs=X, name='ResNet50')\n",
    "    \n",
    "    return model"
   ]
  },
  {
   "cell_type": "code",
   "execution_count": 7,
   "metadata": {
    "colab": {
     "base_uri": "https://localhost:8080/",
     "height": 295
    },
    "colab_type": "code",
    "id": "v1M3d1e0Og0p",
    "outputId": "e291b67d-c49b-434a-882f-00b2694fd9a7"
   },
   "outputs": [],
   "source": [
    "# for downloading the dataset from github to colab\n",
    "#!wget https://github.com/MahmoudFarouq/faceVerification/raw/master/dataSet/dataObject.pkl"
   ]
  },
  {
   "cell_type": "code",
   "execution_count": 8,
   "metadata": {
    "colab": {
     "base_uri": "https://localhost:8080/",
     "height": 34
    },
    "colab_type": "code",
    "id": "QleD5099Owm3",
    "outputId": "0ce937ef-41a1-47e6-cefd-086768fc1e34"
   },
   "outputs": [
    {
     "name": "stdout",
     "output_type": "stream",
     "text": [
      "ANN.ipynb\t  dataPreprocessing  pretrainedModel\t Project.pdf\r\n",
      "CNN_ResNet.ipynb  dataSet\t     preTrainedModel.md  README.md\r\n"
     ]
    }
   ],
   "source": [
    "!ls"
   ]
  },
  {
   "cell_type": "code",
   "execution_count": 9,
   "metadata": {
    "colab": {},
    "colab_type": "code",
    "id": "ALIDY84zOyws"
   },
   "outputs": [],
   "source": [
    "def readAndSplitData(data_path):\n",
    "    with open(data_path, 'rb') as dataFile:\n",
    "        X = pickle.load(dataFile)\n",
    "    y = [\n",
    "        np.full((250, 1), 0), \n",
    "        np.full((250, 1), 1), \n",
    "        np.full((250, 1), 2), \n",
    "        np.full((250, 1), 3)\n",
    "    ]\n",
    "    y = np.vstack(y)\n",
    "    y_encoder = OneHotEncoder(sparse=False)\n",
    "    y = y_encoder.fit_transform(y)\n",
    "    return train_test_split(X, y, test_size=0.2, random_state=42)"
   ]
  },
  {
   "cell_type": "code",
   "execution_count": 10,
   "metadata": {
    "colab": {},
    "colab_type": "code",
    "id": "IepGPJiQO6y_"
   },
   "outputs": [],
   "source": [
    "X_train, X_test, y_train, y_test = readAndSplitData(\"dataSet/dataObject.pkl\")"
   ]
  },
  {
   "cell_type": "code",
   "execution_count": 11,
   "metadata": {
    "colab": {
     "base_uri": "https://localhost:8080/",
     "height": 34
    },
    "colab_type": "code",
    "id": "TXVoBiCsQOxg",
    "outputId": "010cf399-3d9a-483e-d75f-89eb737d8d95"
   },
   "outputs": [
    {
     "data": {
      "text/plain": [
       "((800, 48, 48, 3), (200, 48, 48, 3), (800, 4), (200, 4))"
      ]
     },
     "execution_count": 11,
     "metadata": {},
     "output_type": "execute_result"
    }
   ],
   "source": [
    "X_train.shape, X_test.shape, y_train.shape, y_test.shape"
   ]
  },
  {
   "cell_type": "code",
   "execution_count": 12,
   "metadata": {
    "colab": {},
    "colab_type": "code",
    "id": "uM3yYedLOWNE"
   },
   "outputs": [],
   "source": [
    "# model = ResNet50()"
   ]
  },
  {
   "cell_type": "code",
   "execution_count": 13,
   "metadata": {
    "colab": {},
    "colab_type": "code",
    "id": "MuJjakm6Oagq"
   },
   "outputs": [
    {
     "data": {
      "text/plain": [
       "\"\\n\\nopt = Adam(lr=0.0001)\\nmodel.compile(\\n    loss='categorical_crossentropy',\\n    optimizer=opt,\\n    metrics=['accuracy']\\n)\\n\\n\""
      ]
     },
     "execution_count": 13,
     "metadata": {},
     "output_type": "execute_result"
    }
   ],
   "source": [
    "'''\n",
    "\n",
    "opt = Adam(lr=0.0001)\n",
    "model.compile(\n",
    "    loss='categorical_crossentropy',\n",
    "    optimizer=opt,\n",
    "    metrics=['accuracy']\n",
    ")\n",
    "\n",
    "'''"
   ]
  },
  {
   "cell_type": "code",
   "execution_count": 14,
   "metadata": {
    "colab": {
     "base_uri": "https://localhost:8080/",
     "height": 34785
    },
    "colab_type": "code",
    "id": "BJ690EYgROTj",
    "outputId": "77c69682-ae85-4706-9f66-4db3c8435890"
   },
   "outputs": [
    {
     "data": {
      "text/plain": [
       "'\\n\\nmodel.fit(\\n    X_train, \\n    y_train,\\n    validation_data=(X_test,y_test),\\n    epochs=1000,\\n    shuffle=True,\\n    batch_size=128,\\n    verbose=1\\n)\\n\\n'"
      ]
     },
     "execution_count": 14,
     "metadata": {},
     "output_type": "execute_result"
    }
   ],
   "source": [
    "\"\"\"\n",
    "\n",
    "model.fit(\n",
    "    X_train, \n",
    "    y_train,\n",
    "    validation_data=(X_test,y_test),\n",
    "    epochs=1000,\n",
    "    shuffle=True,\n",
    "    batch_size=128,\n",
    "    verbose=1\n",
    ")\n",
    "\n",
    "\"\"\""
   ]
  },
  {
   "cell_type": "code",
   "execution_count": 16,
   "metadata": {
    "colab": {
     "base_uri": "https://localhost:8080/",
     "height": 52
    },
    "colab_type": "code",
    "id": "oSJQirpvUPq5",
    "outputId": "18d7fd85-19f5-4afb-f438-953c4fc183e3"
   },
   "outputs": [],
   "source": [
    "# model.evaluate(X_test, y_test)"
   ]
  },
  {
   "cell_type": "code",
   "execution_count": null,
   "metadata": {},
   "outputs": [],
   "source": []
  },
  {
   "cell_type": "code",
   "execution_count": 17,
   "metadata": {},
   "outputs": [],
   "source": [
    "names = ['karim', 'omar', 'amr', 'farouq']"
   ]
  },
  {
   "cell_type": "code",
   "execution_count": 18,
   "metadata": {
    "colab": {},
    "colab_type": "code",
    "id": "sRDLsfAUUSL5"
   },
   "outputs": [],
   "source": [
    "def testByIndex(data, labels, index=None):\n",
    "    index = np.random.randint(0, data.shape[0]) if index == None else index\n",
    "    plt.imshow(data[index].reshape(48, 48, 3))\n",
    "    pred = model.predict(data[index].reshape(1, 48, 48, 3))\n",
    "    return (names[np.argmax(pred)], names[np.argmax(labels[index])], pred)"
   ]
  },
  {
   "cell_type": "code",
   "execution_count": 20,
   "metadata": {
    "colab": {
     "base_uri": "https://localhost:8080/",
     "height": 319
    },
    "colab_type": "code",
    "id": "AnZusR2fb0VO",
    "outputId": "0598aebd-8a1a-49f5-f9ab-e92a0ed9526d"
   },
   "outputs": [],
   "source": [
    "# res = testByIndex(X_train, y_train)\n",
    "# print(f\"predicted vector:{res[2]}\", )\n",
    "# print(\"predicted:\", res[0], \"\\ntruth:\", res[1])"
   ]
  },
  {
   "cell_type": "code",
   "execution_count": 0,
   "metadata": {
    "colab": {
     "base_uri": "https://localhost:8080/",
     "height": 34
    },
    "colab_type": "code",
    "id": "NEZ7KW7jUVsP",
    "outputId": "251aebc8-9d4b-48c4-fb19-14a8b47b7247"
   },
   "outputs": [
    {
     "name": "stdout",
     "output_type": "stream",
     "text": [
      "train acc:  0.96\n"
     ]
    }
   ],
   "source": [
    "# print(\"train acc: \", np.sum(np.argmax(model.predict(X_train), axis=1) == np.argmax(y_train, axis=1)) / 800)\n",
    "# print(\"test acc: \", np.sum(np.argmax(model.predict(X_test), axis=1) == np.argmax(y_test, axis=1)) / 200)"
   ]
  },
  {
   "cell_type": "code",
   "execution_count": 21,
   "metadata": {
    "colab": {},
    "colab_type": "code",
    "id": "OXTBNuvF2z6D"
   },
   "outputs": [],
   "source": [
    "# model.save(\"model.mdl\")"
   ]
  },
  {
   "cell_type": "code",
   "execution_count": 0,
   "metadata": {
    "colab": {
     "base_uri": "https://localhost:8080/",
     "height": 330
    },
    "colab_type": "code",
    "collapsed": true,
    "id": "zzXh6RJIgOnj",
    "outputId": "d43d5934-7792-48a5-e3c4-26f43a47a484"
   },
   "outputs": [
    {
     "name": "stdout",
     "output_type": "stream",
     "text": [
      "Collecting pydrive\n",
      "\u001b[?25l  Downloading https://files.pythonhosted.org/packages/52/e0/0e64788e5dd58ce2d6934549676243dc69d982f198524be9b99e9c2a4fd5/PyDrive-1.3.1.tar.gz (987kB)\n",
      "\u001b[K    100% |████████████████████████████████| 993kB 20.5MB/s \n",
      "\u001b[?25hRequirement already satisfied: google-api-python-client>=1.2 in /usr/local/lib/python3.6/dist-packages (from pydrive) (1.6.7)\n",
      "Requirement already satisfied: oauth2client>=4.0.0 in /usr/local/lib/python3.6/dist-packages (from pydrive) (4.1.3)\n",
      "Requirement already satisfied: PyYAML>=3.0 in /usr/local/lib/python3.6/dist-packages (from pydrive) (3.13)\n",
      "Requirement already satisfied: httplib2<1dev,>=0.9.2 in /usr/local/lib/python3.6/dist-packages (from google-api-python-client>=1.2->pydrive) (0.11.3)\n",
      "Requirement already satisfied: uritemplate<4dev,>=3.0.0 in /usr/local/lib/python3.6/dist-packages (from google-api-python-client>=1.2->pydrive) (3.0.0)\n",
      "Requirement already satisfied: six<2dev,>=1.6.1 in /usr/local/lib/python3.6/dist-packages (from google-api-python-client>=1.2->pydrive) (1.11.0)\n",
      "Requirement already satisfied: pyasn1>=0.1.7 in /usr/local/lib/python3.6/dist-packages (from oauth2client>=4.0.0->pydrive) (0.4.4)\n",
      "Requirement already satisfied: rsa>=3.1.4 in /usr/local/lib/python3.6/dist-packages (from oauth2client>=4.0.0->pydrive) (4.0)\n",
      "Requirement already satisfied: pyasn1-modules>=0.0.5 in /usr/local/lib/python3.6/dist-packages (from oauth2client>=4.0.0->pydrive) (0.2.2)\n",
      "Building wheels for collected packages: pydrive\n",
      "  Running setup.py bdist_wheel for pydrive ... \u001b[?25l-\b \b\\\b \bdone\n",
      "\u001b[?25h  Stored in directory: /root/.cache/pip/wheels/fa/d2/9a/d3b6b506c2da98289e5d417215ce34b696db856643bad779f4\n",
      "Successfully built pydrive\n",
      "Installing collected packages: pydrive\n",
      "Successfully installed pydrive-1.3.1\n"
     ]
    }
   ],
   "source": [
    "# to upload trained model to drive\n",
    "\n",
    "!pip3 install pydrive\n",
    "\n",
    "from pydrive.auth import GoogleAuth\n",
    "from pydrive.drive import GoogleDrive\n",
    "from google.colab import auth\n",
    "from oauth2client.client import GoogleCredentials\n",
    "import os\n",
    "\n",
    "def upload(path, folder_id):\n",
    "\t# Authenticate and create the PyDrive client.\n",
    "\tauth.authenticate_user()\n",
    "\tgauth = GoogleAuth()\n",
    "\tgauth.credentials = GoogleCredentials.get_application_default()\n",
    "\tdrive = GoogleDrive(gauth)\n",
    "\tif not os.path.exists(path):\n",
    "\t\tprint(\"wrong path\")\n",
    "\t\treturn\n",
    "\tif os.path.isfile(path):\n",
    "\t\tuploadFile(drive, path, folder_id)\n",
    "\telse:\n",
    "\t\tuploadDirectory(drive, path, folder_id)\n",
    "\n",
    "\n",
    "def uploadDirectory(drive, directoryPath, folder_id):\n",
    "\t# create foder in drive under folder with folder id = folder_id\n",
    "\n",
    "\tdirName = getName(directoryPath)\n",
    "\tprint(\"uploading directory : {name}\".format(name=element))\n",
    "\tmetadata = {'parents':[{u'id': folder_id}], 'title' : dirName, 'mimeType' : 'application/vnd.google-apps.folder'}\n",
    "\tfolder = drive.CreateFile(metadata)\n",
    "\tfolder.Upload()\n",
    "\tnew_folder_id = folder.attr['metadata']['id']\n",
    "\n",
    "\tfor element in os.listdir(directoryPath):\n",
    "\t\telementPath = os.path.join(directoryPath, element)\n",
    "\t\tif os.path.isfile(elementPath):\n",
    "\t\t\tuploadFile(drive, elementPath, new_folder_id)\n",
    "\t\telif os.path.isdir(elementPath):\n",
    "\t\t\tuploadDirectory(drive, elementPath, new_folder_id)\n",
    "\t\n",
    "\tprint(\"uploaded directory  : {name}\".format(name=element))\n",
    "\n",
    "def uploadFile(drive, filePath, folder_id):\n",
    "\tif os.stat(filePath).st_size == 0:\n",
    "\t\treturn\n",
    "\tprint(\"uploading file : {name}\".format(name=getName(filePath)))\n",
    "\tfile = drive.CreateFile({'parents':[{u'id': folder_id}], 'title':getName(filePath)})\n",
    "\tfile.SetContentFile(filePath)\n",
    "\tfile.Upload()\n",
    "\tprint(\"uploaded file  : {name}\".format(name=getName(filePath)))\n",
    "\n",
    "\n",
    "def getName(path):\n",
    "\treturn path.split('/')[-1] if path.split('/')[-1] != '' else path.split('/')[-2]"
   ]
  },
  {
   "cell_type": "code",
   "execution_count": 24,
   "metadata": {
    "colab": {
     "base_uri": "https://localhost:8080/",
     "height": 52
    },
    "colab_type": "code",
    "id": "eDqiG-ingMFU",
    "outputId": "d3f837cf-609a-4cf5-cf66-36b8d67d94a6"
   },
   "outputs": [],
   "source": [
    "# upload from colab to drive\n",
    "\n",
    "# folder_id = '1AHB09g_MMM73vmCGEgrg0MVzzKih0Uh_'\n",
    "# upload(\"model.mdl\", folder_id)"
   ]
  },
  {
   "cell_type": "code",
   "execution_count": 25,
   "metadata": {
    "colab": {},
    "colab_type": "code",
    "id": "zQcMYyZy2QQt"
   },
   "outputs": [],
   "source": [
    "from keras.models import load_model\n",
    "model = load_model(\"pretrainedModel/model.mdl\")"
   ]
  },
  {
   "cell_type": "code",
   "execution_count": 26,
   "metadata": {
    "colab": {},
    "colab_type": "code",
    "id": "uCpZrLSOhXi7"
   },
   "outputs": [],
   "source": [
    "def testAndPlot(data, labels):\n",
    "    start = np.random.randint(0, data.shape[0]-21)\n",
    "    end = start + 20\n",
    "    images = data[start:end,:,:]\n",
    "    preds = [ names[prediction] for prediction in np.argmax(model.predict(images.reshape(-1, 48, 48, 3)), axis=1) ]\n",
    "    plt.figure(figsize=(4, 5))\n",
    "    correctPredections = 0\n",
    "    wrongPredictions = 0\n",
    "    images = zip(images, preds)\n",
    "    for i, (img, pred) in enumerate(images):\n",
    "        plt.subplot(4, 5, i + 1)\n",
    "        plt.imshow(img)\n",
    "\n",
    "        if names[np.argmax(labels[start+i])] == pred:\n",
    "            correctPredections += 1\n",
    "            color = 'g'\n",
    "        else:\n",
    "            wrongPredictions += 1\n",
    "            color = 'r'\n",
    "        plt.title(pred, color=color)\n",
    "    plt.show()\n",
    "    print(f\"Correctly Classified: {correctPredections}\")\n",
    "    print(f\"MisClassified: {wrongPredictions}\")"
   ]
  },
  {
   "cell_type": "code",
   "execution_count": 29,
   "metadata": {
    "colab": {
     "base_uri": "https://localhost:8080/",
     "height": 349
    },
    "colab_type": "code",
    "id": "O8nNv7EDhXCn",
    "outputId": "6edafad4-b1d6-4aac-a84a-3f93954584c0"
   },
   "outputs": [
    {
     "data": {
      "image/png": "[encoded data removed]",
      "text/plain": [
       "<Figure size 288x360 with 20 Axes>"
      ]
     },
     "metadata": {},
     "output_type": "display_data"
    },
    {
     "name": "stdout",
     "output_type": "stream",
     "text": [
      "Correctly Classified: 16\n",
      "MisClassified: 4\n"
     ]
    }
   ],
   "source": [
    "testAndPlot(X_test, y_test)"
   ]
  },
  {
   "cell_type": "code",
   "execution_count": 0,
   "metadata": {
    "colab": {},
    "colab_type": "code",
    "id": "8pH-syqrgfeg"
   },
   "outputs": [],
   "source": []
  }
 ],
 "metadata": {
  "accelerator": "GPU",
  "colab": {
   "collapsed_sections": [],
   "include_colab_link": true,
   "name": "Untitled",
   "provenance": [],
   "version": "0.3.2"
  },
  "kernelspec": {
   "display_name": "Python 3",
   "language": "python",
   "name": "python3"
  },
  "language_info": {
   "codemirror_mode": {
    "name": "ipython",
    "version": 3
   },
   "file_extension": ".py",
   "mimetype": "text/x-python",
   "name": "python",
   "nbconvert_exporter": "python",
   "pygments_lexer": "ipython3",
   "version": "3.6.7"
  }
 },
 "nbformat": 4,
 "nbformat_minor": 1
}
